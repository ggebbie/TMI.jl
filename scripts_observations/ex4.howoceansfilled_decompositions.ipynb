{
 "cells": [
  {
   "cell_type": "code",
   "execution_count": 1,
   "metadata": {},
   "outputs": [
    {
     "name": "stderr",
     "output_type": "stream",
     "text": [
      "\u001b[32m\u001b[1m  Activating\u001b[22m\u001b[39m project at `~/Library/CloudStorage/OneDrive-MassachusettsInstituteofTechnology/Documents/GitHub/TMI.jl/scripts`\n",
      "\u001b[32m\u001b[1m    CondaPkg \u001b[22m\u001b[39m\u001b[0mFound dependencies: /Users/anthonymeza/Library/CloudStorage/OneDrive-MassachusettsInstituteofTechnology/Documents/GitHub/TMI.jl/scripts/CondaPkg.toml\n",
      "\u001b[32m\u001b[1m    CondaPkg \u001b[22m\u001b[39m\u001b[0mFound dependencies: /Users/anthonymeza/.julia/packages/PythonCall/Nr75f/CondaPkg.toml\n",
      "\u001b[32m\u001b[1m    CondaPkg \u001b[22m\u001b[39m\u001b[0mFound dependencies: /Users/anthonymeza/.julia/packages/GeoPythonPlot/Aqlm9/CondaPkg.toml\n",
      "\u001b[32m\u001b[1m    CondaPkg \u001b[22m\u001b[39m\u001b[0mFound dependencies: /Users/anthonymeza/.julia/packages/PythonPlot/469aA/CondaPkg.toml\n",
      "\u001b[32m\u001b[1m    CondaPkg \u001b[22m\u001b[39m\u001b[0mDependencies already up to date\n"
     ]
    },
    {
     "data": {
      "text/plain": [
       "200"
      ]
     },
     "metadata": {},
     "output_type": "display_data"
    }
   ],
   "source": [
    "import Pkg; Pkg.activate(\"../scripts\")\n",
    "Pkg.instantiate()\n",
    "using Revise\n",
    "using PlutoUI\n",
    "using TMI\n",
    "using Test\n",
    "using PythonCall\n",
    "using CondaPkg\n",
    "using PythonPlot\n",
    "const sns = pyimport(\"seaborn\")\n",
    "\n",
    "const cartopy = pyimport(\"cartopy\")\n",
    "const matplotlib = pyimport(\"matplotlib\")\n",
    "\n",
    "ccrs = cartopy.crs\n",
    "\n",
    "import Pkg;\n",
    "using Interpolations\n",
    "using Statistics\n",
    "using LinearAlgebra\n",
    "plotsdir(x) = \"/Users/anthonymeza/Library/CloudStorage/OneDrive-MassachusettsInstituteofTechnology/Documents/GitHub/TMI.jl/plots/\" * x\n",
    "include(\"../src/sample_observations.jl\")\n",
    "\n",
    "using NaNStatistics\n",
    "\n",
    "const mpl = pyimport(\"matplotlib\")\n",
    "mpl.rcParams[\"figure.dpi\"] = 200\n",
    "\n"
   ]
  },
  {
   "cell_type": "code",
   "execution_count": 2,
   "metadata": {},
   "outputs": [
    {
     "data": {
      "text/plain": [
       "Dict{String, String} with 1 entry:\n",
       "  \"text.color\" => \"black\""
      ]
     },
     "metadata": {},
     "output_type": "display_data"
    }
   ],
   "source": [
    "custom_style = Dict(\"text.color\" => \"black\")"
   ]
  },
  {
   "cell_type": "code",
   "execution_count": 3,
   "metadata": {},
   "outputs": [
    {
     "data": {
      "text/plain": [
       "Python: None"
      ]
     },
     "metadata": {},
     "output_type": "display_data"
    }
   ],
   "source": [
    "sns.set_theme(context=\"notebook\", style=\"ticks\", palette = \"colorblind\", rc=custom_style)"
   ]
  },
  {
   "cell_type": "code",
   "execution_count": 4,
   "metadata": {},
   "outputs": [
    {
     "name": "stdout",
     "output_type": "stream",
     "text": [
      "A\n",
      "  0.358815 seconds (399.03 k allocations: 60.988 MiB, 8.03% gc time)\n",
      "Alu\n",
      "  1.598331 seconds (402.67 k allocations: 502.540 MiB, 3.77% gc time)\n",
      "L=\n",
      "  0.320360 seconds (475.82 k allocations: 31.652 MiB, 4.17% gc time)\n",
      "B=\n",
      "  0.097187 seconds (32.42 k allocations: 2.129 MiB)\n",
      "1.4442375457929354e18\n",
      "6.611162189504795\n"
     ]
    }
   ],
   "source": [
    "TMIversion = \"modern_90x45x33_G14_v2\";\n",
    "A, Alu, γ, TMIfile, L, B = config_from_nc(TMIversion); println(sum(cellvolume(γ)))\n",
    "volume = volumefilled(TMIversion,Alu,γ); println(maximum(volume))\n",
    "volume = (10 .^ volume.tracer) .* cellarea(γ).tracer\n",
    "volume = BoundaryCondition(volume,(γ.lon,γ.lat),γ.depth[1],3,1,γ.wet[:,:,1],:V,\"volume filled by surface gridcell\",\"unknown\")\n",
    "volume_mod = 1 * volume \n",
    "TMIfile = TMI.pkgdatadir(\"TMI_\"*TMIversion*\".nc\")\n",
    "θ̄_mod = readfield(TMIfile, \"θ\", γ); #true mean\n",
    "θ̄_mod_MOT = mean(θ̄_mod); #true mean\n",
    "θ̄_mod_SST = getsurfaceboundary(θ̄_mod);"
   ]
  },
  {
   "cell_type": "code",
   "execution_count": 5,
   "metadata": {},
   "outputs": [
    {
     "name": "stdout",
     "output_type": "stream",
     "text": [
      "A\n",
      "  0.042417 seconds (3.45 k allocations: 34.589 MiB, 29.11% gc time)\n",
      "Alu\n",
      "  1.088949 seconds (81 allocations: 476.181 MiB, 1.42% gc time)\n",
      "L=\n",
      "  0.004192 seconds (373 allocations: 38.508 KiB)\n",
      "B=\n",
      "  0.003253 seconds (374 allocations: 38.531 KiB)\n",
      "1.4442375457929354e18\n"
     ]
    }
   ],
   "source": [
    "TMIversion = \"LGM_90x45x33_G14\";\n",
    "A, Alu, γ, TMIfile, L, B = config_from_nc(TMIversion); println(sum(cellvolume(γ))) \n",
    "volume = volumefilled(TMIversion,Alu,γ)\n",
    "volume = (10 .^ volume.tracer) .* cellarea(γ).tracer\n",
    "volume = BoundaryCondition(volume,(γ.lon,γ.lat),γ.depth[1],3,1,γ.wet[:,:,1],:V,\"volume filled by surface gridcell\",\"unknown\")\n",
    "volume_LGM = 1. * volume\n",
    "TMIfile = TMI.pkgdatadir(\"TMI_\"*TMIversion*\".nc\")\n",
    "θ̄_LGM = readfield(TMIfile, \"θ\", γ); #true mean\n",
    "θ̄_LGM_MOT = mean(θ̄_LGM); #true mean\n",
    "θ̄_LGM_SST = getsurfaceboundary(θ̄_LGM);"
   ]
  },
  {
   "cell_type": "code",
   "execution_count": 6,
   "metadata": {},
   "outputs": [
    {
     "data": {
      "text/plain": [
       "Python: None"
      ]
     },
     "metadata": {},
     "output_type": "display_data"
    }
   ],
   "source": [
    "\n",
    "figl, ax = subplots(1, 3, figsize = (10, 10), \n",
    "\t\t\t\t\t\tsubplot_kw=Dict(\"projection\"=> ccrs.PlateCarree(central_longitude = 180)))\n",
    "\n",
    "labels = [\"LGM Volume Contribution\", \"Modern Volume Contribution\", \"Δv\\n(LGM minus Modern)\"] \n",
    "volumes = [volume_LGM.tracer, volume_mod.tracer, 1 * (volume_mod.tracer .- volume_LGM.tracer)]\n",
    "vnorms = [matplotlib.colors.LogNorm(vmin = 2e11, vmax=2e16), \n",
    "matplotlib.colors.LogNorm(vmin = 2e11, vmax=2e16), matplotlib.colors.SymLogNorm(linthresh =1e14, vmin = -2e15, vmax=2e15)]\n",
    "\n",
    "vnorm = vnorms[1]\n",
    "cmaps = [\"Spectral_r\", \"Spectral_r\", \"bwr\"]\n",
    "\n",
    "for (i, axl) in enumerate(ax)\n",
    "    axl.set_title(labels[i])\n",
    "    axl.coastlines(color = \"#949494\", alpha = 0.3)\n",
    "    cml = axl.pcolormesh(γ.lon, γ.lat, volumes[i]', cmap = cmaps[i], transform = ccrs.PlateCarree(),norm=vnorms[i])\n",
    "    cb = figl.colorbar(cml, orientation = \"horizontal\", \n",
    "    extend = \"both\", label = L\"[m^3]\", fraction = 0.03, pad = 0.05)\n",
    "    gl = axl.gridlines(alpha = 0.2, draw_labels = true)\n",
    "    gl.top_labels = false\n",
    "    gl.right_labels = false\n",
    "    if i > 1\n",
    "        gl.left_labels = false\n",
    "    end\n",
    "end\n",
    "figl.tight_layout()\n",
    "figl.savefig(plotsdir(\"Volume_Differences.png\"), dpi = 200, bbox_inches = \"tight\")"
   ]
  },
  {
   "cell_type": "code",
   "execution_count": 7,
   "metadata": {},
   "outputs": [
    {
     "data": {
      "text/plain": [
       "Python: None"
      ]
     },
     "metadata": {},
     "output_type": "display_data"
    }
   ],
   "source": [
    "\n",
    "figl, ax = subplots(1, 3, figsize = (10, 10), \n",
    "\t\t\t\t\t\tsubplot_kw=Dict(\"projection\"=> ccrs.PlateCarree(central_longitude = 180)))\n",
    "\n",
    "labels = [\"LGM Percentage of\\nVolume Contribution\", \"Modern Percentage of\\nVolume Contribution\", \"Δv\\n(LGM minus Modern)\"] \n",
    "volumes = 100 .* [volume_LGM.tracer, volume_mod.tracer, 1 * (volume_mod.tracer .- volume_LGM.tracer)] ./ sum(cellvolume(γ))\n",
    "vnorms = [matplotlib.colors.LogNorm(vmin = 1e-5, vmax=1e1), \n",
    "matplotlib.colors.LogNorm(vmin =  1e-5, vmax=1e1), matplotlib.colors.SymLogNorm(linthresh =1e-1, vmin = -1, vmax=1)]\n",
    "\n",
    "vnorm = vnorms[1]\n",
    "cmaps = [\"Spectral_r\", \"Spectral_r\", \"bwr\"]\n",
    "\n",
    "for (i, axl) in enumerate(ax)\n",
    "    clabel = \n",
    "    axl.set_title(labels[i])\n",
    "    axl.coastlines(color = \"#949494\", alpha = 0.3)\n",
    "    cml = axl.pcolormesh(γ.lon, γ.lat, volumes[i]', cmap = cmaps[i], transform = ccrs.PlateCarree(),norm=vnorms[i])\n",
    "    if i < 3\n",
    "        cb = figl.colorbar(cml, orientation = \"horizontal\", \n",
    "        extend = \"both\", label = L\"100 \\times v \\ [\\%]\", fraction = 0.03, pad = 0.05)\n",
    "    else \n",
    "        cb = figl.colorbar(cml, orientation = \"horizontal\", \n",
    "        extend = \"both\", label = L\"100 \\times \\Delta v \\ [\\%]\", fraction = 0.03, pad = 0.05)\n",
    "    end\n",
    "    gl = axl.gridlines(alpha = 0.2, draw_labels = true)\n",
    "        \n",
    "    gl.top_labels = false\n",
    "    gl.right_labels = false\n",
    "    if i > 1\n",
    "        gl.left_labels = false\n",
    "    end\n",
    "end\n",
    "figl.tight_layout()\n",
    "figl.savefig(plotsdir(\"Volume_Differences_Normalized.png\"), dpi = 200, bbox_inches = \"tight\")"
   ]
  },
  {
   "cell_type": "code",
   "execution_count": 8,
   "metadata": {},
   "outputs": [
    {
     "data": {
      "text/plain": [
       "Python: None"
      ]
     },
     "metadata": {},
     "output_type": "display_data"
    }
   ],
   "source": [
    "fig, ax = subplots(1, 2, figsize = (10, 5)) \n",
    "\n",
    "lgm_lat_volumes = nansum(volumes[1], dims = 1)[:]\n",
    "lgm_mod_volumes = nansum(volumes[2], dims = 1)[:]\n",
    "\n",
    "ax[0].plot(γ.lat, lgm_mod_volumes, label = \"TMI_Modern_GH14\", marker='o', c = \"r\", alpha = 0.7)\n",
    "ax[0].plot(γ.lat, lgm_lat_volumes, label = \"TMI_LGM_GH14\", marker='o', c = \"b\", alpha = 0.7)\n",
    "# ax[0].plot(γ.lat, lgm_mod_volumes .- lgm_lat_volumes, label = \"Modern minus LGM\", marker='o', c = \"k\", alpha = 0.5)\n",
    "\n",
    "ax[0].legend(frameon = false)\n",
    "\n",
    "ax[1].plot(γ.lat, cumsum(lgm_mod_volumes), label = \"TMI_Modern_GH14\", marker='o', c = \"r\", alpha = 0.7)\n",
    "ax[1].plot(γ.lat, cumsum(lgm_lat_volumes), label = \"TMI_LGM_GH14\", marker='o', c = \"b\", alpha = 0.7)\n",
    "# ax[1].plot(γ.lat, cumsum(lgm_mod_volumes) .- cumsum(lgm_lat_volumes), label = \"Modern minus LGM\", marker='o', c = \"k\", alpha = 0.5)\n",
    "\n",
    "ax[1].legend(frameon = false)\n",
    "\n",
    "[a.set_xlabel(\"Latitude [°]\") for a in ax]\n",
    "[a.set_ylabel(\"[%]\") for a in ax]\n",
    "\n",
    "[a.set_xticks(collect(-80:20:80)) for a in ax]\n",
    "ax[1].set_yticks([0, 25, 50, 75, 100])\n",
    "ax[0].set_title(\"Percent of total ocean volume\\nfilled by each latitude bin\")\n",
    "ax[1].set_title(\"Percent of total ocean volume\\nfilled by the cumulative sum of latitude bins\")\n",
    "[a.grid(alpha = 0.3) for a in ax]\n",
    "fig.savefig(plotsdir(\"Volume_Differences_Normalized_latitude.png\"), dpi = 200, bbox_inches = \"tight\")"
   ]
  },
  {
   "cell_type": "code",
   "execution_count": 9,
   "metadata": {},
   "outputs": [
    {
     "data": {
      "text/plain": [
       "Python: None"
      ]
     },
     "metadata": {},
     "output_type": "display_data"
    }
   ],
   "source": [
    "sns.set_theme(context=\"talk\", style=\"ticks\", palette = \"colorblind\", rc=custom_style)\n",
    "fig, ax = subplots(figsize = (10, 5)) \n",
    "\n",
    "lgm_lat_volumes = nansum(volumes[1], dims = 1)[:]\n",
    "lgm_mod_volumes = nansum(volumes[2], dims = 1)[:]\n",
    "\n",
    "ax.plot(γ.lat, lgm_mod_volumes, label = \"TMI_Modern_GH14\", marker='o', c = \"r\", alpha = 0.7)\n",
    "ax.plot(γ.lat, lgm_lat_volumes, label = \"TMI_LGM_GH14\", marker='o', c = \"b\", alpha = 0.7)\n",
    "# ax[1].plot(γ.lat, cumsum(lgm_mod_volumes) .- cumsum(lgm_lat_volumes), label = \"Modern minus LGM\", marker='o', c = \"k\", alpha = 0.5)\n",
    "\n",
    "ax.legend(frameon = false)\n",
    "\n",
    "ax.set_xlabel(\"Latitude\")\n",
    "\n",
    "ax.set_xticks(collect(-90:15:90)) \n",
    "# ax.set_yticks([0, 25, 50, 75, 100])\n",
    "ax.set_ylabel(\"% of total ocean volume filled\")\n",
    "ax.grid(alpha = 0.3) \n",
    "fig.savefig(plotsdir(\"Volume_Differences_Normalized_latitude.png\"), dpi = 200, bbox_inches = \"tight\")\n",
    "sns.set_theme(context=\"notebook\", style=\"ticks\", palette = \"colorblind\", rc=custom_style)\n"
   ]
  },
  {
   "cell_type": "code",
   "execution_count": 10,
   "metadata": {},
   "outputs": [
    {
     "data": {
      "text/plain": [
       "Python: None"
      ]
     },
     "metadata": {},
     "output_type": "display_data"
    }
   ],
   "source": [
    "fig, ax = subplots(figsize = (7.5, 5)) \n",
    "\n",
    "lgm_lat_volumes = nansum(volumes[1], dims = 1)[:]\n",
    "lgm_mod_volumes = nansum(volumes[2], dims = 1)[:]\n",
    "\n",
    "ax.plot(γ.lat, cumsum(lgm_mod_volumes), label = \"TMI_Modern_GH14\", marker='o', c = \"r\", alpha = 0.7)\n",
    "ax.plot(γ.lat, cumsum(lgm_lat_volumes), label = \"TMI_LGM_GH14\", marker='o', c = \"b\", alpha = 0.7)\n",
    "# ax[1].plot(γ.lat, cumsum(lgm_mod_volumes) .- cumsum(lgm_lat_volumes), label = \"Modern minus LGM\", marker='o', c = \"k\", alpha = 0.5)\n",
    "\n",
    "ax.legend(frameon = false)\n",
    "\n",
    "ax.set_xlabel(\"Latitude [°]\")\n",
    "ax.set_ylabel(L\"100 \\times \\mathcal{V}_\\mathcal{l}\" *\" [%]\")\n",
    "\n",
    "ax.set_xticks(collect(-80:20:80)) \n",
    "ax.set_yticks([0, 25, 50, 75, 100])\n",
    "ax.set_title(\"Percent of total ocean volume\\nfilled by each latitude bin\")\n",
    "ax.set_title(\"Percent of total ocean volume\\nfilled by the cumulative sum of latitude bins\")\n",
    "ax.grid(alpha = 0.3) \n",
    "fig.savefig(plotsdir(\"Volume_Differences_Normalized_latitude_bins.png\"), dpi = 200, bbox_inches = \"tight\")"
   ]
  },
  {
   "cell_type": "code",
   "execution_count": 11,
   "metadata": {},
   "outputs": [
    {
     "data": {
      "text/plain": [
       "Python: None"
      ]
     },
     "metadata": {},
     "output_type": "display_data"
    }
   ],
   "source": [
    "figl, ax = subplots(1, 3, figsize = (10, 10), \n",
    "\t\t\t\t\t\tsubplot_kw=Dict(\"projection\"=> ccrs.PlateCarree(central_longitude = 180)))\n",
    "\n",
    "labels = [\"LGM SST\", \"Modern SST\", \"ΔSST\\n(Modern minus LGM)\"] \n",
    "\n",
    "temperatures = [θ̄_LGM_SST.tracer, θ̄_mod_SST.tracer, 1 * (θ̄_mod_SST.tracer .- θ̄_LGM_SST.tracer)]\n",
    "vnorms = [matplotlib.colors.Normalize(vmin = -2, vmax=30), \n",
    "matplotlib.colors.Normalize(vmin = -2, vmax=30), matplotlib.colors.Normalize(vmin = -10, vmax=10)]\n",
    "cmaps = [\"magma\", \"magma\", \"bwr\"]\n",
    "for (i, axl) in enumerate(ax)\n",
    "    axl.set_title(labels[i])\n",
    "    axl.coastlines(color = \"#949494\", alpha = 0.3)\n",
    "    cml = axl.pcolormesh(γ.lon, γ.lat, temperatures[i]', \n",
    "    cmap = cmaps[i], \n",
    "    transform = ccrs.PlateCarree(),norm=vnorms[i])\n",
    "    cb = figl.colorbar(cml, orientation = \"horizontal\", extend = \"both\", label = \"[deg C]\", fraction = 0.03, pad = 0.05)\n",
    "    gl = axl.gridlines(alpha = 0.2, draw_labels = true)\n",
    "    gl.top_labels = false\n",
    "    gl.right_labels = false\n",
    "    if i > 1\n",
    "        gl.left_labels = false\n",
    "    end\n",
    "end\n",
    "figl.tight_layout()\n",
    "figl.savefig(plotsdir(\"SST_Differences.png\"), dpi = 200, bbox_inches = \"tight\")"
   ]
  },
  {
   "cell_type": "code",
   "execution_count": 12,
   "metadata": {},
   "outputs": [
    {
     "data": {
      "text/plain": [
       "Python: None"
      ]
     },
     "metadata": {},
     "output_type": "display_data"
    }
   ],
   "source": [
    "figl, ax = subplots(1, 3, figsize = (10, 10), \n",
    "\t\t\t\t\t\tsubplot_kw=Dict(\"projection\"=> ccrs.PlateCarree(central_longitude = 180)))\n",
    "\n",
    "labels = [L\"v_{LGM} \\Delta SST\", L\"SST_{LGM} \\Delta v\", L\"\\Delta SST \\Delta v\"] \n",
    "\n",
    "ΔSST = θ̄_mod_SST.tracer .- θ̄_LGM_SST.tracer\n",
    "Δv = (volume_mod.tracer .- volume_LGM.tracer) ./ sum(cellvolume(γ))\n",
    "\n",
    "temperatures = [ΔSST .* volume_LGM.tracer ./ sum(cellvolume(γ)) , Δv .* θ̄_LGM_SST.tracer, ΔSST .* Δv]\n",
    "vnorms = [ matplotlib.colors.SymLogNorm(linthresh =1e-3, vmin = -1e-1, vmax=1e-1), \n",
    " matplotlib.colors.SymLogNorm(linthresh =1e-3, vmin = -1e-1, vmax=1e-1), \n",
    "    matplotlib.colors.SymLogNorm(linthresh =1e-3, vmin = -1e-1, vmax=1e-1)]\n",
    "\n",
    "cmaps = [\"bwr\", \"bwr\", \"bwr\"]\n",
    "for (i, axl) in enumerate(ax)\n",
    "    axl.set_title(labels[i])\n",
    "    axl.coastlines(color = \"#949494\", alpha = 0.3)\n",
    "    cml = axl.pcolormesh(γ.lon, γ.lat, temperatures[i]', \n",
    "    cmap = cmaps[i], \n",
    "    transform = ccrs.PlateCarree(),norm=vnorms[i])\n",
    "    cb = figl.colorbar(cml, orientation = \"horizontal\", extend = \"both\", label = \"[deg C]\", fraction = 0.03, pad = 0.05)\n",
    "    cb.ax.tick_params(rotation=45)\n",
    "end\n",
    "figl.tight_layout()\n",
    "figl.savefig(plotsdir(\"MOT_decomp_Differences.png\"), dpi = 200, bbox_inches = \"tight\")"
   ]
  },
  {
   "cell_type": "code",
   "execution_count": 13,
   "metadata": {},
   "outputs": [
    {
     "data": {
      "text/plain": [
       "Python: None"
      ]
     },
     "metadata": {},
     "output_type": "display_data"
    }
   ],
   "source": [
    "fig, ax = subplots(1, 2, figsize = (10, 5)) \n",
    "volume_temp_cont = nansum.(temperatures, dims = 1)\n",
    "\n",
    "percentages = [0, 25, 50, 75, 100]\n",
    "final_value = cumsum(sum(volume_temp_cont)[:])[end]\n",
    "percentage_values = [final_value * p / 100 for p in percentages]\n",
    "\n",
    "xlocs = [-5, -5, -5, -90, -90]\n",
    "for (i, p) in enumerate(percentages)\n",
    "    val = percentage_values[i]\n",
    "    # Find the index closest to the percentage value in the cumulative sum\n",
    "    ax[1].axhline(y=val, color=\"gray\", linestyle=\"--\", alpha = 0.9)\n",
    "    ax[1].text(xlocs[i], val + 0.05, string(p) * \"% of ΔMOT\", fontsize=10, va=\"center\", ha=\"left\", color = \"grey\", alpha = 0.9)\n",
    "end\n",
    "\n",
    "ax[0].plot(γ.lat, sum(volume_temp_cont)[:], marker='o', c = \"k\", alpha = 0.7)\n",
    "ax[1].plot(γ.lat, cumsum(sum(volume_temp_cont)[:]), marker='o', c = \"k\", alpha = 0.7)\n",
    "\n",
    "[a.set_xticks(collect(-80:20:80)) for a in ax]\n",
    "\n",
    "[a.set_xlabel(\"Latitude\") for a in ax]\n",
    "[a.set_ylabel(\"[deg C]\") for a in ax]\n",
    "\n",
    "ax[0].set_title(\"Contribution of ΔMOT\\n by each latitude bin\")\n",
    "ax[1].set_title(\"Contribution of ΔMOT\\n by the cumulative sum of latitude bins\")\n",
    "[a.grid(alpha = 0.3) for a in ax]\n",
    "ax[1].set_ylim(-0.2, final_value + 0.2)\n",
    "fig.savefig(plotsdir(\"Temperature_Differences_Normalized_latitude.png\"), dpi = 200, bbox_inches = \"tight\")"
   ]
  },
  {
   "cell_type": "code",
   "execution_count": 14,
   "metadata": {},
   "outputs": [],
   "source": []
  },
  {
   "cell_type": "code",
   "execution_count": 15,
   "metadata": {},
   "outputs": [
    {
     "name": "stderr",
     "output_type": "stream",
     "text": [
      "No artists with labels found to put in legend.  Note that artists whose label start with an underscore are ignored when legend() is called with no argument.\n",
      "No artists with labels found to put in legend.  Note that artists whose label start with an underscore are ignored when legend() is called with no argument.\n"
     ]
    },
    {
     "data": {
      "text/plain": [
       "Python: None"
      ]
     },
     "metadata": {},
     "output_type": "display_data"
    }
   ],
   "source": [
    "sns.set_theme(context=\"talk\", style=\"ticks\", palette = \"colorblind\", rc=custom_style)\n",
    "fig, ax = subplots(figsize = (10, 5)) \n",
    "\n",
    "lgm_lat_volumes = nansum(volumes[1], dims = 1)[:]\n",
    "ΔSST_lat =  1 * (θ̄_mod_SST.tracer .- θ̄_LGM_SST.tracer); ΔSST_lat[isnan.(ΔSST_lat)] .= 0; \n",
    "ΔSST_lat = sum(ΔSST_lat .* cellarea(γ).tracer, dims = 1) ./ sum(cellarea(γ).tracer, dims = 1)\n",
    "ΔSST_lat = ΔSST_lat[:]\n",
    "\n",
    "ax.plot(γ.lat, lgm_lat_volumes, marker='o', c = \"b\", alpha = 0.7)\n",
    "ax2 = ax.twinx()\n",
    "ax2.plot(γ.lat, ΔSST_lat, marker='o', c = \"red\", alpha = 0.7)\n",
    "\n",
    "# ax[1].plot(γ.lat, cumsum(lgm_mod_volumes) .- cumsum(lgm_lat_volumes), label = \"Modern minus LGM\", marker='o', c = \"k\", alpha = 0.5)\n",
    "\n",
    "ax.legend(frameon = false)\n",
    "ax2.legend(frameon = false)\n",
    "\n",
    "ax.set_xlabel(\"Latitude\")\n",
    "ax.set_ylabel(\"% of total ocean volume filled\")\n",
    "ax2.set_ylabel(\"ΔSST\")\n",
    "\n",
    "ax.set_xticks(collect(-90:15:90)) \n",
    "# ax.set_yticks([0, 25, 50, 75, 100])\n",
    "ax.set_ylabel(L\"100 \\times v_{LGM}\")\n",
    "ax.grid(alpha = 0.3) \n",
    "fig.savefig(plotsdir(\"Volume_Differences_Normalized_latitude.png\"), dpi = 200, bbox_inches = \"tight\")"
   ]
  },
  {
   "cell_type": "code",
   "execution_count": 16,
   "metadata": {},
   "outputs": [
    {
     "name": "stdout",
     "output_type": "stream",
     "text": [
      "2.1846621210889836"
     ]
    },
    {
     "data": {
      "text/plain": [
       "Python: None"
      ]
     },
     "metadata": {},
     "output_type": "display_data"
    }
   ],
   "source": [
    "fig, ax = subplots(figsize = (7.5, 5)) \n",
    "volume_temp_cont = nansum.(temperatures, dims = 1)\n",
    "\n",
    "percentages = [0, 25, 50, 75, 100]\n",
    "print(final_value)\n",
    "final_value = cumsum(sum(volume_temp_cont)[:])[end]\n",
    "percentage_values = [final_value * p / 100 for p in percentages]\n",
    "\n",
    "xlocs = [-5, -5, -5, -90, -90]\n",
    "for (i, p) in enumerate(percentages)\n",
    "    val = percentage_values[i]\n",
    "    # Find the index closest to the percentage value in the cumulative sum\n",
    "    ax.axhline(y=val, color=\"gray\", linestyle=\"--\", alpha = 0.9)\n",
    "    ax.text(xlocs[i], val + 0.05, string(p) * \"% of ΔMOT\", fontsize=10, va=\"center\", ha=\"left\", color = \"grey\", alpha = 0.9)\n",
    "end\n",
    "\n",
    "ax.plot(γ.lat, cumsum(sum(volume_temp_cont)[:]), marker='o', c = \"k\", alpha = 0.7)\n",
    "\n",
    "ax.set_xticks(collect(-80:20:80))\n",
    "ax.set_ylabel(L\"\\Delta \\mathcal{MOT}_\\mathcal{l}\" *\" [deg C]\")\n",
    "\n",
    "ax.set_xlabel(\"Latitude\")\n",
    "\n",
    "ax.set_title(\"Contribution of ΔMOT\\n by the cumulative sum of latitude bins\")\n",
    "ax.grid(alpha = 0.3)\n",
    "ax.set_ylim(-0.2, final_value + 0.2)\n",
    "fig.savefig(plotsdir(\"Temperature_Differences_Normalized_latitude.png\"), dpi = 200, bbox_inches = \"tight\")"
   ]
  },
  {
   "cell_type": "code",
   "execution_count": null,
   "metadata": {},
   "outputs": [
    {
     "name": "stdout",
     "output_type": "stream",
     "text": [
      "2.1846621210889827\n",
      "1.5389253262836307\n",
      "0.5841529404404849\n",
      "0.061583854364867026\n"
     ]
    },
    {
     "data": {
      "text/plain": [
       "Python: None"
      ]
     },
     "metadata": {},
     "output_type": "display_data"
    }
   ],
   "source": [
    "fig, ax = subplots(figsize = (5, 5))\n",
    "ax.grid(alpha = 0.3, zorder = 0)\n",
    "\n",
    "groups = [L\"\\Delta MOT\", L\"\\sum v_{LGM} \\Delta SST\", L\"\\sum SST_{LGM} \\Delta v\", L\"\\sum \\Delta v\\Delta SST\"]\n",
    "\n",
    "WΔθ, θΔW, ΔWΔθ = nansum.(temperatures)\n",
    "vals = [WΔθ + θΔW + ΔWΔθ, WΔθ, θΔW, ΔWΔθ]\n",
    "\n",
    "bars = ax.barh(1:4, vals, color = reverse([\"b\", \"g\", \"r\", \"k\"]), alpha = 0.9, zorder = 10)\n",
    "ax.set_xlabel(\"[deg C]\")\n",
    "ax.set_title(\"Modern Day-LGM MOT Difference Decomposition\")\n",
    "\n",
    "\n",
    "# Label values at the end of each bar\n",
    "for bar in bars\n",
    "    width = bar.get_width()\n",
    "    yval_r = round(pyconvert(Float32, width), digits = 2)\n",
    "\n",
    "    println(width)\n",
    "    ax.text(width + .1, bar.get_y() + bar.get_height()/2, string(yval_r) * \" deg C\", \n",
    "             va=\"center\", color=\"black\", fontweight = \"bold\")\n",
    "end\n",
    "fig\n",
    "    \n",
    "# Customize plot\n",
    "ax.set_xlim(0, 3)\n",
    "ax.set_yticks(1:4)\n",
    "ax.set_yticklabels(groups)\n",
    "fig.savefig(plotsdir(\"MOT_Change_decomposition_horizontal.png\"), dpi = 200, bbox_inches = \"tight\")"
   ]
  },
  {
   "cell_type": "code",
   "execution_count": 273,
   "metadata": {},
   "outputs": [
    {
     "ename": "LoadError",
     "evalue": "ArgumentError: Package matplotlib not found in current path.\n- Run `import Pkg; Pkg.add(\"matplotlib\")` to install the matplotlib package.",
     "output_type": "error",
     "traceback": [
      "ArgumentError: Package matplotlib not found in current path.\n- Run `import Pkg; Pkg.add(\"matplotlib\")` to install the matplotlib package.",
      "",
      "Stacktrace:",
      " [1] macro expansion",
      "   @ ./loading.jl:1630 [inlined]",
      " [2] macro expansion",
      "   @ ./lock.jl:267 [inlined]",
      " [3] require(into::Module, mod::Symbol)",
      "   @ Base ./loading.jl:1611"
     ]
    }
   ],
   "source": []
  },
  {
   "cell_type": "code",
   "execution_count": null,
   "metadata": {},
   "outputs": [],
   "source": []
  }
 ],
 "metadata": {
  "kernelspec": {
   "display_name": "Julia 1.9.4",
   "language": "julia",
   "name": "julia-1.9"
  },
  "language_info": {
   "file_extension": ".jl",
   "mimetype": "application/julia",
   "name": "julia",
   "version": "1.9.4"
  }
 },
 "nbformat": 4,
 "nbformat_minor": 4
}
